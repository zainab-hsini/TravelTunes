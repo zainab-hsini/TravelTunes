{
  "nbformat": 4,
  "nbformat_minor": 0,
  "metadata": {
    "colab": {
      "provenance": [],
      "authorship_tag": "ABX9TyPrDEbAnogPcVHFsfQYqmLl",
      "include_colab_link": true
    },
    "kernelspec": {
      "name": "python3",
      "display_name": "Python 3"
    },
    "language_info": {
      "name": "python"
    }
  },
  "cells": [
    {
      "cell_type": "markdown",
      "metadata": {
        "id": "view-in-github",
        "colab_type": "text"
      },
      "source": [
        "<a href=\"https://colab.research.google.com/github/zainab-hsini/TravelTunes/blob/main/TravelTunes.ipynb\" target=\"_parent\"><img src=\"https://colab.research.google.com/assets/colab-badge.svg\" alt=\"Open In Colab\"/></a>"
      ]
    },
    {
      "cell_type": "markdown",
      "source": [
        "We're going to be building a program that creates a playlist based on the duration of your trip. The user inputs their location and a point X where they wish to go, and the program will create a playlist, based on their preferred genre, that matches the duration of the trip.\n",
        "\n",
        "We'll be using two APIs:\n",
        "\n",
        "*   An API to calculate the duration of the trip from point A to point B (TravelTime API)\n",
        "*   An API that generates a playlist based on some preferences that is the same duration of the trip (Spotify Get Track API)\n",
        "\n",
        "\n"
      ],
      "metadata": {
        "id": "jRil2ZdJa0PP"
      }
    },
    {
      "cell_type": "code",
      "source": [
        "#set up API keys\n",
        "from google.colab import userdata\n",
        "\n",
        "spotify_api_key = userdata.get('Spotify')\n",
        "triptime_api_key = userdata.get('TripTime')\n",
        "\n",
        "#handling Spotify requests\n",
        "import requests\n",
        "\n",
        "CLIENT_ID = '6e520222634c467da6b12d66950837b3'\n",
        "CLIENT_SECRET = 'b049e33ef609493cb6b6677084f6c1d4'\n",
        "\n",
        "AUTH_URL = 'https://accounts.spotify.com/api/token'\n",
        "\n",
        "auth_response = requests.post(AUTH_URL, {\n",
        "    'grant_type': 'client_credentials',\n",
        "    'client_id': CLIENT_ID,\n",
        "    'client_secret': CLIENT_SECRET,\n",
        "})\n",
        "\n",
        "# convert the response to JSON\n",
        "auth_response_data = auth_response.json()\n",
        "\n",
        "# save the access token\n",
        "access_token = auth_response_data['access_token']"
      ],
      "metadata": {
        "id": "4ZZwZ86DFHs4"
      },
      "execution_count": 29,
      "outputs": []
    },
    {
      "cell_type": "markdown",
      "source": [
        "We have set up both keys and handled Spotify requests. Now it's time to calculate the trip's duration."
      ],
      "metadata": {
        "id": "PYwrW8voGRtV"
      }
    },
    {
      "cell_type": "code",
      "source": [
        "# Installing the necessary packages\n",
        "!pip install asyncio -q\n",
        "!pip install nest_asyncio -q\n",
        "!pip install traveltimepy -q\n",
        "\n",
        "# Importing necessary packages\n",
        "import asyncio\n",
        "import nest_asyncio\n",
        "from traveltimepy import Location, Coordinates, Transportation, TravelTimeSdk\n",
        "\n",
        "# Allows nested async loops\n",
        "nest_asyncio.apply()\n",
        "\n",
        "# Async function to calculate travel time\n",
        "async def main():\n",
        "\n",
        "    # Handling Travel Time requests\n",
        "    sdk = TravelTimeSdk(\"8c1fc92c\", \"5fc314f3af7748628cc293d3e703067c\")\n",
        "\n",
        "    # Define the locations with test coordinates\n",
        "    departure_location = Location(id=\"departure_location\", coords=Coordinates(lat=departure_lat, lng=departure_lng))\n",
        "    arrival_location = Location(id=\"arrival_location\", coords=Coordinates(lat=arrival_lat, lng=arrival_lng))\n",
        "\n",
        "    # Perform the time filter search\n",
        "    results = await sdk.time_filter_fast_async(\n",
        "        locations=[departure_location, arrival_location],\n",
        "        search_ids={\n",
        "            \"departure_location\": [\"arrival_location\"]\n",
        "        },\n",
        "        transportation=Transportation(type=\"driving\"),\n",
        "        one_to_many=True\n",
        "    )\n",
        "\n",
        "    trip_duration = None\n",
        "\n",
        "    # Extract the travel time\n",
        "    if isinstance(results, list) and len(results) > 0:\n",
        "        for result in results:\n",
        "            if result.search_id == 'departure_location':\n",
        "                for loc in result.locations:\n",
        "                    if loc.id == 'arrival_location':\n",
        "                        trip_duration = loc.properties.travel_time\n",
        "    else:\n",
        "        print(\"No valid results found. Please check coordinates and transportation mode.\")\n",
        "\n",
        "    return trip_duration\n",
        "\n",
        "# Function to get validated float input\n",
        "def get_validated_float(prompt, min_value, max_value):\n",
        "    while True:\n",
        "        try:\n",
        "            value = float(input(prompt))\n",
        "            if min_value <= value <= max_value:\n",
        "                return value\n",
        "            else:\n",
        "                print(f\"Value out of range. Please enter a value between {min_value} and {max_value}.\")\n",
        "        except ValueError:\n",
        "            print(\"Invalid input. Please enter a valid number.\")\n",
        "\n",
        "# Get user input for coordinates\n",
        "print(\"Welcome to your playlist maker! Let's make your trip a little more fun :)\")\n",
        "print(\"Where are you? Enter your coordinates below. \")\n",
        "\n",
        "departure_lat = get_validated_float(\"Departure latitude: \", -90, 90)\n",
        "departure_lng = get_validated_float(\"Departure longitude: \", -180, 180)\n",
        "print(\"And where are you going? Enter the coordinates here: \")\n",
        "arrival_lat = get_validated_float(\"Arrival latitude: \", -90, 90)\n",
        "arrival_lng = get_validated_float(\"Arrival longitude: \", -180, 180)\n",
        "\n",
        "# Run the async function and get the trip duration\n",
        "trip_duration = asyncio.run(main())\n",
        "print(\"Great! Let's find you a playlist.\")\n",
        "\n",
        "# Coordinates to use for demo:\n",
        "# The London Eye: 51.5033 (latitude) -0.1196 (longitude)\n",
        "# Buckingham Palace: 51.5014 (latitude) -0.1419 (longitude)"
      ],
      "metadata": {
        "colab": {
          "base_uri": "https://localhost:8080/"
        },
        "id": "lpIUa1O6bZvX",
        "outputId": "7806109f-0fe8-4a8d-916c-e04072cd8ba8"
      },
      "execution_count": 30,
      "outputs": [
        {
          "output_type": "stream",
          "name": "stdout",
          "text": [
            "Welcome to your playlist maker! Let's make your trip a little more fun :)\n",
            "Where are you? Enter your coordinates below. \n",
            "Departure latitude: 51.5033\n",
            "Departure longitude: -0.1196\n",
            "And where are you going? Enter the coordinates here: \n",
            "Arrival latitude: 51.5014\n",
            "Arrival longitude: -0.1419\n",
            "Great! Let's find you a playlist.\n"
          ]
        }
      ]
    },
    {
      "cell_type": "markdown",
      "source": [
        "After getting the coordinates from the user and calculating the duration of the trip, it is time to get the user's music preferences and create a playlist they can listen to during the ride!"
      ],
      "metadata": {
        "id": "i582lfkeE1fS"
      }
    },
    {
      "cell_type": "code",
      "source": [
        "import requests\n",
        "\n",
        "# Define headers\n",
        "headers = {\n",
        "    'Authorization': f'Bearer {access_token}',\n",
        "    'Content-Type': 'application/json'\n",
        "}\n",
        "\n",
        "# Define supported genres\n",
        "GENRE_MAP = {\n",
        "    \"Pop\": \"pop\", \"Rock\": \"rock\", \"Hip-Hop\": \"hip-hop\", \"Jazz\": \"jazz\", \"Classical\": \"classical\",\n",
        "    \"Country\": \"country\", \"Electronic\": \"electronic\", \"Reggae\": \"reggae\", \"Metal\": \"metal\", \"Blues\": \"blues\",\n",
        "    \"Folk\": \"folk\", \"Soul\": \"soul\", \"Funk\": \"funk\", \"Punk\": \"punk\", \"Indie\": \"indie\",\n",
        "    \"Alternative\": \"alternative\", \"Latin\": \"latin\", \"R&B\": \"r&b\", \"Dance\": \"dance\", \"House\": \"house\"\n",
        "}\n",
        "\n",
        "# Print available genres\n",
        "def print_available_genres():\n",
        "    print(\"What would you like to listen to? Choose a genre from our selection below!\")\n",
        "    for i, genre in enumerate(GENRE_MAP.keys(), 1):\n",
        "        print(f\"{i}. {genre}\")\n",
        "\n",
        "# Get recommendations by genre\n",
        "def get_recommendations_by_genre(genre, limit=50):\n",
        "    api_genre = GENRE_MAP.get(genre)\n",
        "    if not api_genre:\n",
        "        return None\n",
        "\n",
        "    RECOMMENDATIONS_URL = 'https://api.spotify.com/v1/recommendations'\n",
        "\n",
        "    params = {\n",
        "        'seed_genres': api_genre,\n",
        "        'limit': limit,\n",
        "        'market': 'US',\n",
        "    }\n",
        "\n",
        "    response = requests.get(RECOMMENDATIONS_URL, headers=headers, params=params)\n",
        "    return response.json()\n",
        "\n",
        "# Calculate playlist duration\n",
        "def calculate_playlist(tracks, target_duration_sec):\n",
        "    selected_tracks = []\n",
        "    selected_track_ids = set()\n",
        "    total_duration_sec = 0\n",
        "\n",
        "    for track in tracks:\n",
        "        track_id = track['id']\n",
        "        if track_id in selected_track_ids:\n",
        "            continue\n",
        "\n",
        "        track_name = track['name']\n",
        "        track_duration_ms = track['duration_ms']\n",
        "        track_duration_sec = track_duration_ms / 1000\n",
        "        artist_names = ', '.join(artist['name'] for artist in track['artists'])\n",
        "\n",
        "        if total_duration_sec + track_duration_sec <= target_duration_sec:\n",
        "            selected_tracks.append((track_name, artist_names))\n",
        "            selected_track_ids.add(track_id)\n",
        "            total_duration_sec += track_duration_sec\n",
        "\n",
        "        if total_duration_sec > target_duration_sec:\n",
        "            break\n",
        "\n",
        "    return selected_tracks, total_duration\n",
        "\n",
        "# Main function\n",
        "def main():\n",
        "    print_available_genres()\n",
        "\n",
        "    while True:\n",
        "        # Input genre from user\n",
        "        user_genre = input(\"Enter your preferred genre: \").strip().title()\n",
        "\n",
        "        # Fetch recommended tracks based on the genre\n",
        "        recommendations_data = get_recommendations_by_genre(user_genre, limit=50)\n",
        "        if recommendations_data:\n",
        "            tracks = recommendations_data['tracks']\n",
        "\n",
        "            # Calculate playlist duration\n",
        "            selected_tracks, total_duration = calculate_playlist(tracks, trip_duration)\n",
        "\n",
        "            # Output the result\n",
        "            print(\"Here's our recommended playlist :)\")\n",
        "            for track_name, artist_names in selected_tracks:\n",
        "                print(f\"- {track_name} by {artist_names}\")\n",
        "            break\n",
        "        else:\n",
        "            print(\"Invalid input, please try again with a valid genre.\")\n",
        "\n",
        "if __name__ == \"__main__\":\n",
        "    main()"
      ],
      "metadata": {
        "colab": {
          "base_uri": "https://localhost:8080/"
        },
        "id": "rIotduxPFtYk",
        "outputId": "8584a895-cbb3-4eb9-ffa9-ce46f0a2de59"
      },
      "execution_count": 31,
      "outputs": [
        {
          "output_type": "stream",
          "name": "stdout",
          "text": [
            "What would you like to listen to? Choose a genre from our selection below!\n",
            "1. Pop\n",
            "2. Rock\n",
            "3. Hip-Hop\n",
            "4. Jazz\n",
            "5. Classical\n",
            "6. Country\n",
            "7. Electronic\n",
            "8. Reggae\n",
            "9. Metal\n",
            "10. Blues\n",
            "11. Folk\n",
            "12. Soul\n",
            "13. Funk\n",
            "14. Punk\n",
            "15. Indie\n",
            "16. Alternative\n",
            "17. Latin\n",
            "18. R&B\n",
            "19. Dance\n",
            "20. House\n",
            "Enter your preferred genre: punk\n",
            "Here's our recommended playlist :)\n",
            "- Love and Leaving by Julie & The Wrong Guys\n",
            "- Search And Destroy - LA & Detroit Rehearsals, 1973 by The Stooges\n",
            "- I Won’t Say I’m Sorry by Face To Face\n",
            "- Stormy Weather by Arborview\n"
          ]
        }
      ]
    }
  ]
}